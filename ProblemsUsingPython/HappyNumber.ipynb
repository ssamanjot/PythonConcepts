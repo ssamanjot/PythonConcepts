{
 "cells": [
  {
   "cell_type": "code",
   "execution_count": 4,
   "metadata": {},
   "outputs": [
    {
     "name": "stdout",
     "output_type": "stream",
     "text": [
      "Please enter your input19\n",
      "9^2 +1^2 +=  82\n",
      "**********\n",
      "2^2 +8^2 +=  68\n",
      "**********\n",
      "8^2 +6^2 +=  100\n",
      "**********\n",
      "0^2 +0^2 +1^2 +=  1\n",
      "**********\n",
      "19  is a Happy number !\n"
     ]
    }
   ],
   "source": [
    "x=int(input('Please enter your input'))\n",
    "SUM=0\n",
    "Itemlist=[]\n",
    "num=int(x)\n",
    "while SUM!=1:\n",
    "    if SUM!=0:\n",
    "        num=SUM\n",
    "        SUM=0\n",
    "    while num!=0:\n",
    "        d=num%10\n",
    "        print('%d^2 +'% d,end=\"\" )\n",
    "        SUM = SUM + (d**2)\n",
    "        num=int(num/10)\n",
    "    print(\"= \",SUM)\n",
    "    \n",
    "    print(\"*\"*10)\n",
    "    if SUM in Itemlist:\n",
    "        print(x,' is not a Happy number !')\n",
    "        break\n",
    "    Itemlist.append(SUM)\n",
    "else:\n",
    "    print(x,' is a Happy number !')\n",
    "\n",
    "    "
   ]
  },
  {
   "cell_type": "code",
   "execution_count": null,
   "metadata": {},
   "outputs": [],
   "source": []
  },
  {
   "cell_type": "code",
   "execution_count": null,
   "metadata": {},
   "outputs": [],
   "source": []
  }
 ],
 "metadata": {
  "kernelspec": {
   "display_name": "Python 3",
   "language": "python",
   "name": "python3"
  },
  "language_info": {
   "codemirror_mode": {
    "name": "ipython",
    "version": 3
   },
   "file_extension": ".py",
   "mimetype": "text/x-python",
   "name": "python",
   "nbconvert_exporter": "python",
   "pygments_lexer": "ipython3",
   "version": "3.7.3"
  }
 },
 "nbformat": 4,
 "nbformat_minor": 2
}
