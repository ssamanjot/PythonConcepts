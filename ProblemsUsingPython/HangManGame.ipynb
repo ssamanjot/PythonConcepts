{
 "cells": [
  {
   "cell_type": "code",
   "execution_count": 11,
   "metadata": {},
   "outputs": [],
   "source": [
    "import random\n",
    "f=open('HangManWords.txt')\n",
    "Words=list(f.read().split(','))"
   ]
  },
  {
   "cell_type": "code",
   "execution_count": 12,
   "metadata": {},
   "outputs": [
    {
     "name": "stdout",
     "output_type": "stream",
     "text": [
      "['SABUDH', 'WORLD', 'AMAN']\n"
     ]
    }
   ],
   "source": [
    "print(Words)"
   ]
  },
  {
   "cell_type": "code",
   "execution_count": 13,
   "metadata": {},
   "outputs": [
    {
     "name": "stdout",
     "output_type": "stream",
     "text": [
      "WORLD\n"
     ]
    }
   ],
   "source": [
    "g= random.randrange(0,3)\n",
    "print(Words[g])\n"
   ]
  },
  {
   "cell_type": "code",
   "execution_count": 14,
   "metadata": {},
   "outputs": [
    {
     "name": "stdout",
     "output_type": "stream",
     "text": [
      "R\n",
      "W\n",
      "['W', 'O', 'R', 'L', 'D']\n",
      "['W', '_', 'R', '_', '_']\n"
     ]
    }
   ],
   "source": [
    "k=random.randrange(0,len(Words[g]))\n",
    "j=random.randrange(0,len(Words[g]))\n",
    "MissingWords=[]\n",
    "while k==j:\n",
    "    j=random.randrange(0,len(Words[g]))\n",
    "SelectWord=list(Words[g])\n",
    "print(SelectWord[j])\n",
    "print(SelectWord[k])\n",
    "MissingWords=SelectWord.copy()\n",
    "MissingWords.remove(SelectWord[j])\n",
    "MissingWords.remove(SelectWord[k])\n",
    "print(SelectWord)\n",
    "BlankLetters=[]\n",
    "for i in range(0,len(SelectWord)):\n",
    "    BlankLetters.append('_')\n",
    "BlankLetters[j]=SelectWord[j]\n",
    "BlankLetters[k]=SelectWord[k]\n",
    "print(BlankLetters)\n"
   ]
  },
  {
   "cell_type": "code",
   "execution_count": null,
   "metadata": {},
   "outputs": [
    {
     "name": "stdout",
     "output_type": "stream",
     "text": [
      "Please enter your input W\n",
      "Input already exists\n",
      "No. of turns left:  12\n",
      "Please enter your input W\n",
      "Input already exists\n",
      "No. of turns left:  12\n",
      "Please enter your input W\n",
      "Input already exists\n",
      "No. of turns left:  12\n",
      "Please enter your input W\n",
      "Input already exists\n",
      "No. of turns left:  12\n",
      "Please enter your input W\n",
      "Input already exists\n",
      "No. of turns left:  12\n",
      "Please enter your input W\n",
      "Input already exists\n",
      "No. of turns left:  12\n",
      "Please enter your input W\n",
      "Input already exists\n",
      "No. of turns left:  12\n"
     ]
    }
   ],
   "source": [
    "import sys\n",
    "Turns=12\n",
    "UserInputs=[]\n",
    "UserInputs.append(SelectWord[j])\n",
    "UserInputs.append(SelectWord[k])\n",
    "\n",
    "while Turns>0:\n",
    "    Curinput=(input('Please enter your input '))\n",
    "    Curinput=Curinput.upper()\n",
    "    \n",
    "    if Curinput.isalpha():\n",
    "        if Curinput not in MissingWords:\n",
    "            if Curinput in UserInputs:\n",
    "                print('Input already exists')\n",
    "                print('No. of turns left: ',Turns)\n",
    "            else:\n",
    "                Turns=Turns-1\n",
    "                print('Wrong Input', Turns,' turns left')\n",
    "                \n",
    "        else:\n",
    "            for i in range(0,len(SelectWord)):\n",
    "                \n",
    "                if Curinput == SelectWord[i]:\n",
    "                    Turns=Turns-1\n",
    "                    BlankLetters[i] = Curinput\n",
    "                    MissingWords.remove(Curinput)\n",
    "                    UserInputs.append(Curinput)\n",
    "                    print(BlankLetters)\n",
    "                if len(MissingWords)==0:\n",
    "                    print('You won game')\n",
    "                    sys.exit()\n",
    "    else:\n",
    "        print(\"Please enter alpha variables\")\n",
    "else:\n",
    "    print('You lose the game !')"
   ]
  },
  {
   "cell_type": "code",
   "execution_count": null,
   "metadata": {},
   "outputs": [],
   "source": []
  }
 ],
 "metadata": {
  "kernelspec": {
   "display_name": "Python 3",
   "language": "python",
   "name": "python3"
  },
  "language_info": {
   "codemirror_mode": {
    "name": "ipython",
    "version": 3
   },
   "file_extension": ".py",
   "mimetype": "text/x-python",
   "name": "python",
   "nbconvert_exporter": "python",
   "pygments_lexer": "ipython3",
   "version": "3.7.3"
  }
 },
 "nbformat": 4,
 "nbformat_minor": 2
}
