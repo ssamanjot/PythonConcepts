{
 "cells": [
  {
   "cell_type": "code",
   "execution_count": 17,
   "metadata": {},
   "outputs": [],
   "source": [
    "def GetWordsFromFile():\n",
    "    \n",
    "    f=open('HangManWords.txt')\n",
    "    Words=list(f.read().split(','))\n",
    "    print(Words)\n",
    "    BlankLetterWords(Words)\n",
    "    \n",
    "    return "
   ]
  },
  {
   "cell_type": "code",
   "execution_count": 18,
   "metadata": {},
   "outputs": [],
   "source": [
    "def BlankLetterWords(Words):\n",
    "    \n",
    "    import random\n",
    "\n",
    "    MissingWords=[]\n",
    "    BlankLetters=[]\n",
    "    g= random.randrange(0,3)\n",
    "\n",
    "    k=random.randrange(0,len(Words[g]))\n",
    "    j=random.randrange(0,len(Words[g]))\n",
    "    print(Words[g])\n",
    "    \n",
    "    while k==j:\n",
    "        j=random.randrange(0,len(Words[g]))\n",
    "    \n",
    "    SelectWord=list(Words[g])\n",
    "    print(SelectWord)\n",
    "    \n",
    "    for i in range(0,len(SelectWord)):\n",
    "        BlankLetters.append('_')\n",
    "    \n",
    "    BlankLetters[j]=SelectWord[j]\n",
    "    BlankLetters[k]=SelectWord[k]\n",
    "    print(BlankLetters)\n",
    "    InputForUser(SelectWord,BlankLetters,j,k)\n",
    "    \n",
    "    return"
   ]
  },
  {
   "cell_type": "code",
   "execution_count": 19,
   "metadata": {},
   "outputs": [],
   "source": [
    "def InputForUser(SelectWord, BlankLetters,j,k):\n",
    "    \n",
    "    import sys\n",
    "    Status=0\n",
    "    Turns=12\n",
    "    UserInputs=[]\n",
    "    UserInputs.append(SelectWord[j])\n",
    "    UserInputs.append(SelectWord[k])\n",
    "    MissingWords=SelectWord.copy()\n",
    "    MissingWords.remove(SelectWord[j])\n",
    "    MissingWords.remove(SelectWord[k])\n",
    "\n",
    "\n",
    "    while Turns>0:\n",
    "        \n",
    "        Curinput=(input('Please enter your input '))\n",
    "        Curinput=Curinput.upper()\n",
    "\n",
    "        if Curinput.isalpha():\n",
    "            \n",
    "            if Curinput not in MissingWords:\n",
    "                \n",
    "                if Curinput in UserInputs:\n",
    "                    \n",
    "                    print('Input already exists')\n",
    "                    print('No. of turns left: ',Turns)\n",
    "                    \n",
    "                else:\n",
    "                    \n",
    "                    Turns=Turns-1\n",
    "                    print('Wrong Input', Turns,' turns left')\n",
    "\n",
    "            else:\n",
    "                \n",
    "                for i in range(0,len(SelectWord)):\n",
    "\n",
    "                    if Curinput == SelectWord[i]:\n",
    "                        \n",
    "                        Turns=Turns-1\n",
    "                        BlankLetters[i] = Curinput\n",
    "                        MissingWords.remove(Curinput)\n",
    "                        UserInputs.append(Curinput)\n",
    "                        print(BlankLetters)\n",
    "                        \n",
    "                    if len(MissingWords)==0:\n",
    "                        print('You won the game')\n",
    "\n",
    "                        return\n",
    "        else:\n",
    "            \n",
    "            print(\"Please enter alpha variables\")\n",
    "            \n",
    "    else:\n",
    "        \n",
    "        Status=0\n",
    "        print('You lost the game !')\n",
    "    \n",
    "    return"
   ]
  },
  {
   "cell_type": "code",
   "execution_count": 20,
   "metadata": {},
   "outputs": [
    {
     "name": "stdout",
     "output_type": "stream",
     "text": [
      "['SABUDH', 'WORLD', 'AMAN']\n",
      "WORLD\n",
      "['W', 'O', 'R', 'L', 'D']\n",
      "['_', '_', 'R', 'L', '_']\n",
      "Please enter your input w\n",
      "['W', '_', 'R', 'L', '_']\n",
      "Please enter your input o\n",
      "['W', 'O', 'R', 'L', '_']\n",
      "Please enter your input 1\n",
      "Please enter alpha variables\n",
      "Please enter your input d\n",
      "['W', 'O', 'R', 'L', 'D']\n",
      "You won game\n"
     ]
    }
   ],
   "source": [
    "GetWordsFromFile()"
   ]
  },
  {
   "cell_type": "code",
   "execution_count": null,
   "metadata": {},
   "outputs": [],
   "source": []
  },
  {
   "cell_type": "code",
   "execution_count": null,
   "metadata": {},
   "outputs": [],
   "source": []
  }
 ],
 "metadata": {
  "kernelspec": {
   "display_name": "Python 3",
   "language": "python",
   "name": "python3"
  },
  "language_info": {
   "codemirror_mode": {
    "name": "ipython",
    "version": 3
   },
   "file_extension": ".py",
   "mimetype": "text/x-python",
   "name": "python",
   "nbconvert_exporter": "python",
   "pygments_lexer": "ipython3",
   "version": "3.7.3"
  }
 },
 "nbformat": 4,
 "nbformat_minor": 2
}
