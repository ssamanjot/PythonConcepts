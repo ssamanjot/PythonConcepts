{
 "cells": [
  {
   "cell_type": "code",
   "execution_count": 4,
   "metadata": {},
   "outputs": [
    {
     "name": "stdout",
     "output_type": "stream",
     "text": [
      "Largest prime factor:  29\n"
     ]
    }
   ],
   "source": [
    "Number =13195\n",
    "MaxPrimeNumber=2\n",
    "\n",
    "while Number%2==0:\n",
    "    Number = Number//2\n",
    "    MaxPrimeNumber = 2\n",
    "\n",
    "for j in range(3,Number+1,2):\n",
    "    if Number%j==0:\n",
    "        Number = Number//j\n",
    "        if MaxPrimeNumber<j:\n",
    "            MaxPrimeNumber=j\n",
    "print('Largest prime factor: ',MaxPrimeNumber)\n"
   ]
  },
  {
   "cell_type": "code",
   "execution_count": null,
   "metadata": {},
   "outputs": [],
   "source": []
  },
  {
   "cell_type": "code",
   "execution_count": 14,
   "metadata": {},
   "outputs": [
    {
     "name": "stdout",
     "output_type": "stream",
     "text": [
      "3\n",
      "5\n",
      "7\n",
      "9\n"
     ]
    }
   ],
   "source": []
  },
  {
   "cell_type": "code",
   "execution_count": null,
   "metadata": {},
   "outputs": [],
   "source": []
  }
 ],
 "metadata": {
  "kernelspec": {
   "display_name": "Python 3",
   "language": "python",
   "name": "python3"
  },
  "language_info": {
   "codemirror_mode": {
    "name": "ipython",
    "version": 3
   },
   "file_extension": ".py",
   "mimetype": "text/x-python",
   "name": "python",
   "nbconvert_exporter": "python",
   "pygments_lexer": "ipython3",
   "version": "3.7.3"
  }
 },
 "nbformat": 4,
 "nbformat_minor": 2
}
