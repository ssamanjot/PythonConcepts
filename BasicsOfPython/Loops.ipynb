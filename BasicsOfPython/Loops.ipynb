{
 "cells": [
  {
   "cell_type": "code",
   "execution_count": 1,
   "metadata": {},
   "outputs": [
    {
     "name": "stdout",
     "output_type": "stream",
     "text": [
      "1\n",
      "2\n",
      "3\n",
      "4\n",
      "5\n",
      "6\n",
      "7\n",
      "8\n",
      "1\n",
      "2\n",
      "3\n",
      "4\n",
      "65\n"
     ]
    }
   ],
   "source": [
    "List1 = [1,2,3,4,5,6,7,8,1,2,3,4,65] #Defining a list\n",
    "#execution of for loop\n",
    "for num in List1:\n",
    "    print(num)\n"
   ]
  },
  {
   "cell_type": "code",
   "execution_count": 2,
   "metadata": {},
   "outputs": [
    {
     "data": {
      "text/plain": [
       "2"
      ]
     },
     "execution_count": 2,
     "metadata": {},
     "output_type": "execute_result"
    }
   ],
   "source": [
    "17%3  # Calculating modulus\n"
   ]
  },
  {
   "cell_type": "code",
   "execution_count": 4,
   "metadata": {},
   "outputs": [
    {
     "name": "stdout",
     "output_type": "stream",
     "text": [
      "Odd number : 1\n",
      "Even number: 2\n",
      "Odd number : 3\n",
      "Even number: 4\n",
      "Odd number : 5\n",
      "Even number: 6\n",
      "Odd number : 7\n",
      "Even number: 8\n",
      "Odd number : 1\n",
      "Even number: 2\n",
      "Odd number : 3\n",
      "Even number: 4\n",
      "Odd number : 65\n"
     ]
    }
   ],
   "source": [
    "#Printing odd numbers and even numbers in list\n",
    "for num in List1:\n",
    "    if num%2==0:\n",
    "        print('Even number:',num)\n",
    "    else:\n",
    "        print('Odd number :',num)"
   ]
  },
  {
   "cell_type": "code",
   "execution_count": 6,
   "metadata": {},
   "outputs": [
    {
     "name": "stdout",
     "output_type": "stream",
     "text": [
      "Sum of items in list is : 111\n"
     ]
    }
   ],
   "source": [
    "#Printing sum of items in list\n",
    "sum =0\n",
    "for num in List1:\n",
    "    sum=sum +num\n",
    "print('Sum of items in list is :',sum)"
   ]
  },
  {
   "cell_type": "code",
   "execution_count": 8,
   "metadata": {},
   "outputs": [
    {
     "name": "stdout",
     "output_type": "stream",
     "text": [
      "W\n",
      "e\n",
      "l\n",
      "c\n",
      "o\n",
      "m\n",
      "e\n",
      " \n",
      "t\n",
      "o\n",
      " \n",
      "S\n",
      "a\n",
      "b\n",
      "u\n",
      "d\n",
      "h\n",
      " \n",
      "!\n"
     ]
    }
   ],
   "source": [
    "#Accessing each item in string \n",
    "for letter in 'Welcome to Sabudh !':\n",
    "    print(letter)"
   ]
  },
  {
   "cell_type": "code",
   "execution_count": 9,
   "metadata": {},
   "outputs": [
    {
     "name": "stdout",
     "output_type": "stream",
     "text": [
      "11\n",
      "22\n",
      "33\n",
      "44\n",
      "55\n"
     ]
    }
   ],
   "source": [
    "#For loop on tuples\n",
    "tup=(11,22,33,44,55)\n",
    "for i in tup:\n",
    "    print(i)"
   ]
  },
  {
   "cell_type": "code",
   "execution_count": 10,
   "metadata": {},
   "outputs": [
    {
     "name": "stdout",
     "output_type": "stream",
     "text": [
      "(11, 22)\n",
      "(33, 44)\n",
      "(55, 66)\n"
     ]
    }
   ],
   "source": [
    "#For loop on list of tuples\n",
    "t=[(11,22),(33,44),(55,66)]\n",
    "for i in t:\n",
    "    print(i)"
   ]
  },
  {
   "cell_type": "code",
   "execution_count": 11,
   "metadata": {},
   "outputs": [
    {
     "name": "stdout",
     "output_type": "stream",
     "text": [
      "22\n",
      "44\n",
      "66\n"
     ]
    }
   ],
   "source": [
    "#Accessing elements of tuple by for loop\n",
    "for i,j in t:\n",
    "    print(j)"
   ]
  },
  {
   "cell_type": "code",
   "execution_count": 14,
   "metadata": {},
   "outputs": [
    {
     "name": "stdout",
     "output_type": "stream",
     "text": [
      "t1\n",
      "t2\n",
      "t3\n"
     ]
    }
   ],
   "source": [
    "#For loop on Dictionary\n",
    "d={'t1':12,'t2':24,'t3':36}\n",
    "for k in d:\n",
    "    print(k)"
   ]
  },
  {
   "cell_type": "code",
   "execution_count": 15,
   "metadata": {},
   "outputs": [
    {
     "data": {
      "text/plain": [
       "dict_items([('t1', 12), ('t2', 24), ('t3', 36)])"
      ]
     },
     "execution_count": 15,
     "metadata": {},
     "output_type": "execute_result"
    }
   ],
   "source": [
    "#Returning dictionary into list of tuples\n",
    "d.items()"
   ]
  },
  {
   "cell_type": "code",
   "execution_count": 17,
   "metadata": {},
   "outputs": [
    {
     "name": "stdout",
     "output_type": "stream",
     "text": [
      "t1\n",
      "12\n",
      "t2\n",
      "24\n",
      "t3\n",
      "36\n"
     ]
    }
   ],
   "source": [
    "#Unpacking dictionary\n",
    "for k,v in d.items():\n",
    "    print(k)\n",
    "    print(v)"
   ]
  },
  {
   "cell_type": "code",
   "execution_count": 18,
   "metadata": {},
   "outputs": [
    {
     "name": "stdout",
     "output_type": "stream",
     "text": [
      "Value of P is : 0\n",
      "Increementing value of P by 1\n",
      "Value of P is : 1\n",
      "Increementing value of P by 1\n",
      "Value of P is : 2\n",
      "Increementing value of P by 1\n",
      "Value of P is : 3\n",
      "Increementing value of P by 1\n",
      "Value of P is : 4\n",
      "Increementing value of P by 1\n",
      "Value of P is : 5\n",
      "Increementing value of P by 1\n",
      "Value of P is : 6\n",
      "Increementing value of P by 1\n",
      "Value of P is : 7\n",
      "Increementing value of P by 1\n",
      "Value of P is : 8\n",
      "Increementing value of P by 1\n",
      "Value of P is : 9\n",
      "Increementing value of P by 1\n",
      "Value of P is : 10\n",
      "Increementing value of P by 1\n",
      "Value of P is : 11\n",
      "Increementing value of P by 1\n",
      "Value of P is : 12\n",
      "Increementing value of P by 1\n",
      "Value of P is : 13\n",
      "Increementing value of P by 1\n"
     ]
    }
   ],
   "source": [
    "#While loop\n",
    "p=0\n",
    "while (p<14):\n",
    "    print('Value of P is :',p)\n",
    "    print('Increementing value of P by 1')\n",
    "    p=p+1"
   ]
  },
  {
   "cell_type": "code",
   "execution_count": 23,
   "metadata": {},
   "outputs": [
    {
     "name": "stdout",
     "output_type": "stream",
     "text": [
      "Current Value of r is : 1\n",
      "Value of r is not divisible by 5 , Continue\n",
      "Current Value of r is : 2\n",
      "Value of r is not divisible by 5 , Continue\n",
      "Current Value of r is : 3\n",
      "Value of r is not divisible by 5 , Continue\n",
      "Current Value of r is : 4\n",
      "Value of r is not divisible by 5 , Continue\n",
      "Current Value of r is : 5\n",
      "Value of r is divisible by 5 . Breaking the loop\n"
     ]
    }
   ],
   "source": [
    "#Using break, continue, and pass\n",
    "r=0\n",
    "while(r<10):\n",
    "    r=r+1\n",
    "    print('Current Value of r is :',r)\n",
    "    if(r%5)==0:\n",
    "        print('Value of r is divisible by 5 . Breaking the loop')\n",
    "        break\n",
    "    else:\n",
    "        print('Value of r is not divisible by 5 , Continue')\n",
    "        continue\n",
    "    "
   ]
  },
  {
   "cell_type": "code",
   "execution_count": 50,
   "metadata": {},
   "outputs": [
    {
     "name": "stdout",
     "output_type": "stream",
     "text": [
      "List of values in dictionary  1\n",
      "List of values in dictionary  2\n",
      "List of values in dictionary  3\n",
      "List of values in dictionary  4\n",
      "List of values in dictionary  5\n",
      "List of values in dictionary  3\n",
      "List of values in dictionary  4\n"
     ]
    }
   ],
   "source": [
    "#Nested loop \n",
    "u={'a':[1,2,3],'b':[4,5],'c':[3],'d':[4]}\n",
    "for  i in u.keys():\n",
    "        #print('Elements of dictionary',j)\n",
    "        for k in u[i] :\n",
    "            print('List of values in dictionary ',k)\n",
    "        \n",
    "\n"
   ]
  },
  {
   "cell_type": "code",
   "execution_count": 33,
   "metadata": {},
   "outputs": [
    {
     "data": {
      "text/plain": [
       "4"
      ]
     },
     "execution_count": 33,
     "metadata": {},
     "output_type": "execute_result"
    }
   ],
   "source": []
  },
  {
   "cell_type": "code",
   "execution_count": null,
   "metadata": {},
   "outputs": [],
   "source": []
  }
 ],
 "metadata": {
  "kernelspec": {
   "display_name": "Python 3",
   "language": "python",
   "name": "python3"
  },
  "language_info": {
   "codemirror_mode": {
    "name": "ipython",
    "version": 3
   },
   "file_extension": ".py",
   "mimetype": "text/x-python",
   "name": "python",
   "nbconvert_exporter": "python",
   "pygments_lexer": "ipython3",
   "version": "3.7.3"
  }
 },
 "nbformat": 4,
 "nbformat_minor": 2
}
