{
 "cells": [
  {
   "cell_type": "code",
   "execution_count": null,
   "metadata": {},
   "outputs": [],
   "source": [
    "a=[1,2,3]\n",
    "try:\n",
    "    print('Second element',a[0])\n",
    "    print('Tenth element',a[13])\n",
    "except IndexError:\n",
    "    print('Error occurred')"
   ]
  },
  {
   "cell_type": "code",
   "execution_count": null,
   "metadata": {},
   "outputs": [],
   "source": [
    "try :\n",
    "    a=4\n",
    "    if a<4:\n",
    "\n",
    "        b = a/(a-3)  #It will throw name error if a>=4 or a-3=0\n",
    "    raise NameError('Hi there')\n",
    "    print('Value of b is ',b)\n",
    " # note that braces () are necessary here for multiple exceptions \n",
    "except NameError:\n",
    "    print('\\nName Error')\n",
    "    raise\n",
    "except ZeroDivisionError:\n",
    "    print('Division by zero error')\n",
    "    raise"
   ]
  },
  {
   "cell_type": "code",
   "execution_count": null,
   "metadata": {},
   "outputs": [],
   "source": [
    "# Function which returns a/b \n",
    "def NumberDiv(a , b): \n",
    "    try: \n",
    "        c = ((a+b) / (a-b)) \n",
    "    except ZeroDivisionError: \n",
    "        print (\"a/b result in 0\")\n",
    "    else: \n",
    "        print (c )"
   ]
  },
  {
   "cell_type": "code",
   "execution_count": null,
   "metadata": {},
   "outputs": [],
   "source": [
    "NumberDiv(3.0,3.0)"
   ]
  },
  {
   "cell_type": "code",
   "execution_count": null,
   "metadata": {},
   "outputs": [],
   "source": [
    "NumberDiv(3,2)"
   ]
  },
  {
   "cell_type": "code",
   "execution_count": null,
   "metadata": {},
   "outputs": [],
   "source": [
    "try:  \n",
    "    raise NameError(\"Hi there \")  # Raise Error \n",
    "except NameError:\n",
    "    pass\n",
    "    #print (\"An exception\")\n",
    "    #raise  # To determine whether the exception was raised or not"
   ]
  },
  {
   "cell_type": "code",
   "execution_count": null,
   "metadata": {},
   "outputs": [],
   "source": [
    "2+'a'"
   ]
  },
  {
   "cell_type": "code",
   "execution_count": 4,
   "metadata": {},
   "outputs": [
    {
     "name": "stdout",
     "output_type": "stream",
     "text": [
      "There was a type error\n"
     ]
    }
   ],
   "source": [
    "try:\n",
    "    2+'t'\n",
    "except TypeError:\n",
    "    print('There was a type error')"
   ]
  },
  {
   "cell_type": "code",
   "execution_count": 6,
   "metadata": {},
   "outputs": [
    {
     "name": "stdout",
     "output_type": "stream",
     "text": [
      "There was a type error\n",
      "Finally! this got printed \n"
     ]
    }
   ],
   "source": [
    "try:\n",
    "    7+'t'\n",
    "except TypeError:\n",
    "    print('There was a type error')\n",
    "finally:\n",
    "    print('Finally! this got printed ')"
   ]
  },
  {
   "cell_type": "code",
   "execution_count": 7,
   "metadata": {},
   "outputs": [
    {
     "name": "stdout",
     "output_type": "stream",
     "text": [
      "File write was a success\n",
      "Always execute finally code blocks\n"
     ]
    }
   ],
   "source": [
    "try:\n",
    "    f=open('test1','w')\n",
    "    f.write('We are writing to test1 file')\n",
    "    \n",
    "except:\n",
    "    print('Error in writing to test1 file')\n",
    "    \n",
    "else:\n",
    "    print('File write was a success')\n",
    "\n",
    "finally :\n",
    "    print('Always execute finally code blocks')"
   ]
  },
  {
   "cell_type": "code",
   "execution_count": 8,
   "metadata": {},
   "outputs": [
    {
     "name": "stdout",
     "output_type": "stream",
     "text": [
      "1\n",
      "<class 'str'>\n"
     ]
    }
   ],
   "source": [
    "i = input()\n",
    "print(type(i))\n"
   ]
  },
  {
   "cell_type": "code",
   "execution_count": null,
   "metadata": {},
   "outputs": [],
   "source": []
  }
 ],
 "metadata": {
  "kernelspec": {
   "display_name": "Python 3",
   "language": "python",
   "name": "python3"
  },
  "language_info": {
   "codemirror_mode": {
    "name": "ipython",
    "version": 3
   },
   "file_extension": ".py",
   "mimetype": "text/x-python",
   "name": "python",
   "nbconvert_exporter": "python",
   "pygments_lexer": "ipython3",
   "version": "3.7.3"
  }
 },
 "nbformat": 4,
 "nbformat_minor": 2
}
