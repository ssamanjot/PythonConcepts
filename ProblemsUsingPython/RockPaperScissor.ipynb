{
 "cells": [
  {
   "cell_type": "code",
   "execution_count": 3,
   "metadata": {},
   "outputs": [],
   "source": [
    "import random"
   ]
  },
  {
   "cell_type": "code",
   "execution_count": 4,
   "metadata": {},
   "outputs": [
    {
     "name": "stdout",
     "output_type": "stream",
     "text": [
      "User's input for Rock Paper Scissor game: Rock\n"
     ]
    }
   ],
   "source": [
    "x = input(\"User's input for Rock Paper Scissor game: \")\n",
    "while not(x=='Rock' or x=='Paper' or x=='Scissor'):\n",
    "     print('\\nInvalid Input. Please input any one of Rock/Paper/Scissor')\n",
    "     x = input(\"\\nUser's input for Rock Paper Scissor game: \")\n"
   ]
  },
  {
   "cell_type": "code",
   "execution_count": 5,
   "metadata": {},
   "outputs": [
    {
     "name": "stdout",
     "output_type": "stream",
     "text": [
      "Computer's input for Rock Paper Scissor game: Scissor\n"
     ]
    }
   ],
   "source": [
    "Category=['Rock','Paper','Scissor']\n",
    "random.shuffle(Category)\n",
    "t=Category[0]\n",
    "print(\"Computer's input for Rock Paper Scissor game:\",t)"
   ]
  },
  {
   "cell_type": "code",
   "execution_count": 6,
   "metadata": {},
   "outputs": [
    {
     "name": "stdout",
     "output_type": "stream",
     "text": [
      "You win\n"
     ]
    }
   ],
   "source": [
    "if(x == t):\n",
    "        print('Game Tie')\n",
    "if((x == 'Rock' and t == 'Paper') or (x == 'Paper' and t == 'Scissor') or (x == 'Scissor' and t == 'Rock')):\n",
    "    print('You loose')\n",
    "else:\n",
    "   print('You win')"
   ]
  },
  {
   "cell_type": "code",
   "execution_count": null,
   "metadata": {},
   "outputs": [],
   "source": []
  },
  {
   "cell_type": "code",
   "execution_count": null,
   "metadata": {},
   "outputs": [],
   "source": []
  },
  {
   "cell_type": "code",
   "execution_count": null,
   "metadata": {},
   "outputs": [],
   "source": []
  },
  {
   "cell_type": "code",
   "execution_count": null,
   "metadata": {},
   "outputs": [],
   "source": []
  },
  {
   "cell_type": "code",
   "execution_count": null,
   "metadata": {},
   "outputs": [],
   "source": []
  }
 ],
 "metadata": {
  "kernelspec": {
   "display_name": "Python 3",
   "language": "python",
   "name": "python3"
  },
  "language_info": {
   "codemirror_mode": {
    "name": "ipython",
    "version": 3
   },
   "file_extension": ".py",
   "mimetype": "text/x-python",
   "name": "python",
   "nbconvert_exporter": "python",
   "pygments_lexer": "ipython3",
   "version": "3.7.3"
  }
 },
 "nbformat": 4,
 "nbformat_minor": 2
}
