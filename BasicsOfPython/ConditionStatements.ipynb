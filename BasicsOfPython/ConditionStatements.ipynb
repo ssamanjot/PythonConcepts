{
 "cells": [
  {
   "cell_type": "code",
   "execution_count": 5,
   "metadata": {},
   "outputs": [
    {
     "name": "stdout",
     "output_type": "stream",
     "text": [
      "Odd number : 1\n",
      "Even number : 2\n",
      "Odd number : 3\n",
      "Even number : 4\n",
      "Odd number : 5\n",
      "Even number : 6\n",
      "Odd number : 7\n",
      "Even number : 8\n",
      "Odd number : 9\n",
      "Even number : 10\n"
     ]
    }
   ],
   "source": [
    "#If else condition in python\n",
    "i=[1,2,3,4,5,6,7,8,9,10]\n",
    "for J in i :\n",
    "    if ((J%2)==0):\n",
    "            print('Even number :',J)\n",
    "    else:\n",
    "        print('Odd number :',J)"
   ]
  },
  {
   "cell_type": "code",
   "execution_count": 7,
   "metadata": {},
   "outputs": [
    {
     "name": "stdout",
     "output_type": "stream",
     "text": [
      "c is greatest of three numbers\n"
     ]
    }
   ],
   "source": [
    "#Greatest of three numbers:\n",
    "a=114\n",
    "b=343\n",
    "c=422\n",
    "if (a>b and a>c):\n",
    "    print('a is greatest of three numbers')\n",
    "elif(b>a and b>c):\n",
    "    print('b is greatest of three numbers')\n",
    "else:\n",
    "    print('c is greatest of three numbers')"
   ]
  },
  {
   "cell_type": "code",
   "execution_count": null,
   "metadata": {},
   "outputs": [],
   "source": []
  }
 ],
 "metadata": {
  "kernelspec": {
   "display_name": "Python 3",
   "language": "python",
   "name": "python3"
  },
  "language_info": {
   "codemirror_mode": {
    "name": "ipython",
    "version": 3
   },
   "file_extension": ".py",
   "mimetype": "text/x-python",
   "name": "python",
   "nbconvert_exporter": "python",
   "pygments_lexer": "ipython3",
   "version": "3.7.3"
  }
 },
 "nbformat": 4,
 "nbformat_minor": 2
}
