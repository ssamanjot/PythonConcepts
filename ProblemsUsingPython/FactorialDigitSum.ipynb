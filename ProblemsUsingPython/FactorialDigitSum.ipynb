{
 "cells": [
  {
   "cell_type": "code",
   "execution_count": 25,
   "metadata": {},
   "outputs": [],
   "source": [
    "def Factorial(n):\n",
    "    Factorial=1\n",
    "    for i in range(1,n+1):\n",
    "        Factorial = Factorial*i\n",
    "    \n",
    "    return Factorial\n"
   ]
  },
  {
   "cell_type": "code",
   "execution_count": 26,
   "metadata": {},
   "outputs": [],
   "source": [
    "def DigitSum(P):\n",
    "    FactorialDigitSum=0\n",
    "    for k in range(1,len(P)+1):\n",
    "\n",
    "        FactorialDigitSum=FactorialDigitSum+int(P[k-1])\n",
    "\n",
    "    return FactorialDigitSum\n",
    "    \n"
   ]
  },
  {
   "cell_type": "code",
   "execution_count": 27,
   "metadata": {},
   "outputs": [
    {
     "name": "stdout",
     "output_type": "stream",
     "text": [
      "648\n"
     ]
    }
   ],
   "source": [
    "Factorial=(Factorial(100))\n",
    "P=str(Factorial)\n",
    "FactorialDigitSum=DigitSum(P)\n",
    "print(FactorialDigitSum)"
   ]
  },
  {
   "cell_type": "code",
   "execution_count": null,
   "metadata": {},
   "outputs": [],
   "source": []
  }
 ],
 "metadata": {
  "kernelspec": {
   "display_name": "Python 3",
   "language": "python",
   "name": "python3"
  },
  "language_info": {
   "codemirror_mode": {
    "name": "ipython",
    "version": 3
   },
   "file_extension": ".py",
   "mimetype": "text/x-python",
   "name": "python",
   "nbconvert_exporter": "python",
   "pygments_lexer": "ipython3",
   "version": "3.7.3"
  }
 },
 "nbformat": 4,
 "nbformat_minor": 2
}
