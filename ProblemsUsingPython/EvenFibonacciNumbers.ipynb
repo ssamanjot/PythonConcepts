{
 "cells": [
  {
   "cell_type": "code",
   "execution_count": 24,
   "metadata": {},
   "outputs": [],
   "source": [
    "def GenerateFibonacciSeries():\n",
    "    i=1\n",
    "    j=2\n",
    "    k=1\n",
    "    NextFibonacciNum=0\n",
    "    FibonacciSeries=[]\n",
    "    FibonacciSeries.append(i)\n",
    "    FibonacciSeries.append(j)\n",
    "    EvenValuedSum=2\n",
    "    EvenValuedTerms=[2]\n",
    "    while NextFibonacciNum<4000000:\n",
    "            i=FibonacciSeries[k]\n",
    "            j=FibonacciSeries[k-1]\n",
    "            NextFibonacciNum=i+j\n",
    "            if(NextFibonacciNum>4000000):\n",
    "                break\n",
    "            else:\n",
    "                FibonacciSeries.append(NextFibonacciNum)\n",
    "                k=k+1\n",
    "                if NextFibonacciNum%2==0:\n",
    "                    EvenValuedSum=EvenValuedSum+NextFibonacciNum\n",
    "                    EvenValuedTerms.append(NextFibonacciNum)\n",
    "    print('Fibonacci series : ',FibonacciSeries)\n",
    "    print('Even Value terms in Fibonacci series :',EvenValuedTerms)\n",
    "    print('Sum of Even Valued terms in Fibonacci series : ',EvenValuedSum)"
   ]
  },
  {
   "cell_type": "code",
   "execution_count": 25,
   "metadata": {},
   "outputs": [
    {
     "name": "stdout",
     "output_type": "stream",
     "text": [
      "[1, 2, 3, 5, 8, 13, 21, 34, 55, 89, 144, 233, 377, 610, 987, 1597, 2584, 4181, 6765, 10946, 17711, 28657, 46368, 75025, 121393, 196418, 317811, 514229, 832040, 1346269, 2178309, 3524578]\n",
      "4613732\n",
      "[2, 8, 34, 144, 610, 2584, 10946, 46368, 196418, 832040, 3524578]\n"
     ]
    }
   ],
   "source": [
    "GenerateFibonacciSeries()"
   ]
  },
  {
   "cell_type": "code",
   "execution_count": null,
   "metadata": {},
   "outputs": [],
   "source": []
  }
 ],
 "metadata": {
  "kernelspec": {
   "display_name": "Python 3",
   "language": "python",
   "name": "python3"
  },
  "language_info": {
   "codemirror_mode": {
    "name": "ipython",
    "version": 3
   },
   "file_extension": ".py",
   "mimetype": "text/x-python",
   "name": "python",
   "nbconvert_exporter": "python",
   "pygments_lexer": "ipython3",
   "version": "3.7.3"
  }
 },
 "nbformat": 4,
 "nbformat_minor": 2
}
