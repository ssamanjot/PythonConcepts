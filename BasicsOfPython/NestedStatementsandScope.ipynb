{
 "cells": [
  {
   "cell_type": "code",
   "execution_count": 6,
   "metadata": {},
   "outputs": [
    {
     "name": "stdout",
     "output_type": "stream",
     "text": [
      "HelloSammmy\n"
     ]
    }
   ],
   "source": [
    "name='Global name '\n",
    "\n",
    "def greeting():\n",
    "    name='Sammmy'\n",
    "    \n",
    "    def SayHello():\n",
    "        print('Hello '+name)\n",
    "    \n",
    "    SayHello()    \n",
    "    \n",
    "greeting()\n"
   ]
  },
  {
   "cell_type": "code",
   "execution_count": 14,
   "metadata": {},
   "outputs": [],
   "source": [
    "#Global x\n",
    "\n",
    "x=50\n",
    "\n",
    "def func():\n",
    "    global x\n",
    "    print('This function is now using global x!')\n",
    "    \n",
    "    x=2\n",
    "    print('Ran func(), the value of X changes to ',x)\n",
    "    return x"
   ]
  },
  {
   "cell_type": "code",
   "execution_count": 15,
   "metadata": {},
   "outputs": [
    {
     "name": "stdout",
     "output_type": "stream",
     "text": [
      "Before calling func() x is 50\n",
      "This function is now using global x!\n",
      "Ran func(), the value of X changes to  2\n",
      "After calling func() x is 2\n"
     ]
    }
   ],
   "source": [
    "print('Before calling func() x is',x)\n",
    "func()\n",
    "print('After calling func() x is',x)"
   ]
  },
  {
   "cell_type": "code",
   "execution_count": null,
   "metadata": {},
   "outputs": [],
   "source": []
  }
 ],
 "metadata": {
  "kernelspec": {
   "display_name": "Python 3",
   "language": "python",
   "name": "python3"
  },
  "language_info": {
   "codemirror_mode": {
    "name": "ipython",
    "version": 3
   },
   "file_extension": ".py",
   "mimetype": "text/x-python",
   "name": "python",
   "nbconvert_exporter": "python",
   "pygments_lexer": "ipython3",
   "version": "3.7.3"
  }
 },
 "nbformat": 4,
 "nbformat_minor": 2
}
