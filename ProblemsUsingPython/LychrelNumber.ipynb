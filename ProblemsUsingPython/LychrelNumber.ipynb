{
 "cells": [
  {
   "cell_type": "code",
   "execution_count": 1,
   "metadata": {},
   "outputs": [],
   "source": [
    "def Reverse(n):\n",
    "#         rev=0\n",
    "#         while(n>0):\n",
    "#             temp=n\n",
    "#             dig=n%10\n",
    "#             rev=rev*10+dig\n",
    "#             n=n//10\n",
    "        n=str(n)\n",
    "        rev=n[::-1]\n",
    "        rev=int(rev)\n",
    "        return rev"
   ]
  },
  {
   "cell_type": "code",
   "execution_count": 2,
   "metadata": {},
   "outputs": [],
   "source": [
    "import time\n",
    "def LychrelNumber():\n",
    "    start=time.time()\n",
    "    LychrelNumber=[]\n",
    "    for i in range(1,10000):\n",
    "           temp=i\n",
    "           rev=Reverse(i)   \n",
    "           for j in range(0,50):\n",
    "                Palindrome=0\n",
    "                num=temp+rev\n",
    "                revNum=Reverse(num)\n",
    "                    \n",
    "                if num==revNum:\n",
    "                    Palindrome=1\n",
    "                    break\n",
    "                else:\n",
    "                    Palindrome=0\n",
    "                    temp=num\n",
    "                    rev=revNum\n",
    "           if Palindrome==0:\n",
    "                LychrelNumber.append(i)\n",
    "    end=time.time()\n",
    "    print(end-start)\n",
    "    print(len(LychrelNumber)) "
   ]
  },
  {
   "cell_type": "code",
   "execution_count": 3,
   "metadata": {},
   "outputs": [
    {
     "name": "stdout",
     "output_type": "stream",
     "text": [
      "0.03592324256896973\n",
      "249\n"
     ]
    }
   ],
   "source": [
    "LychrelNumber()"
   ]
  },
  {
   "cell_type": "code",
   "execution_count": null,
   "metadata": {},
   "outputs": [],
   "source": []
  },
  {
   "cell_type": "code",
   "execution_count": null,
   "metadata": {},
   "outputs": [],
   "source": []
  }
 ],
 "metadata": {
  "kernelspec": {
   "display_name": "Python 3",
   "language": "python",
   "name": "python3"
  },
  "language_info": {
   "codemirror_mode": {
    "name": "ipython",
    "version": 3
   },
   "file_extension": ".py",
   "mimetype": "text/x-python",
   "name": "python",
   "nbconvert_exporter": "python",
   "pygments_lexer": "ipython3",
   "version": "3.7.3"
  }
 },
 "nbformat": 4,
 "nbformat_minor": 2
}
